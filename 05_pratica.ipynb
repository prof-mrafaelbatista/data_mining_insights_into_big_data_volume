{
 "cells": [
  {
   "cell_type": "code",
   "execution_count": 10,
   "id": "cd762f34",
   "metadata": {},
   "outputs": [],
   "source": [
    "from scipy import stats\n",
    "\n",
    "import pandas as pd\n",
    "import numpy as np"
   ]
  },
  {
   "cell_type": "code",
   "execution_count": 2,
   "id": "1ffe525c",
   "metadata": {},
   "outputs": [],
   "source": [
    "df = pd.read_csv('cursos-prouni-pb-jpa.csv')"
   ]
  },
  {
   "cell_type": "code",
   "execution_count": 3,
   "id": "71c8032a",
   "metadata": {},
   "outputs": [
    {
     "data": {
      "text/html": [
       "<div>\n",
       "<style scoped>\n",
       "    .dataframe tbody tr th:only-of-type {\n",
       "        vertical-align: middle;\n",
       "    }\n",
       "\n",
       "    .dataframe tbody tr th {\n",
       "        vertical-align: top;\n",
       "    }\n",
       "\n",
       "    .dataframe thead th {\n",
       "        text-align: right;\n",
       "    }\n",
       "</style>\n",
       "<table border=\"1\" class=\"dataframe\">\n",
       "  <thead>\n",
       "    <tr style=\"text-align: right;\">\n",
       "      <th></th>\n",
       "      <th>uf_busca</th>\n",
       "      <th>cidade_busca</th>\n",
       "      <th>universidade_nome</th>\n",
       "      <th>campus_nome</th>\n",
       "      <th>nome</th>\n",
       "      <th>grau</th>\n",
       "      <th>turno</th>\n",
       "      <th>mensalidade</th>\n",
       "      <th>bolsa_integral_cotas</th>\n",
       "      <th>bolsa_integral_ampla</th>\n",
       "      <th>bolsa_parcial_cotas</th>\n",
       "      <th>bolsa_parcial_ampla</th>\n",
       "      <th>nota_integral_ampla</th>\n",
       "      <th>nota_integral_cotas</th>\n",
       "      <th>nota_parcial_ampla</th>\n",
       "      <th>nota_parcial_cotas</th>\n",
       "    </tr>\n",
       "  </thead>\n",
       "  <tbody>\n",
       "    <tr>\n",
       "      <th>0</th>\n",
       "      <td>PB</td>\n",
       "      <td>Joao Pessoa</td>\n",
       "      <td>Centro Universitário de João Pessoa - Unipê - ...</td>\n",
       "      <td>CAMPUS UNIPÊ - Água Fria</td>\n",
       "      <td>Administração</td>\n",
       "      <td>Bacharelado</td>\n",
       "      <td>Matutino</td>\n",
       "      <td>529.00</td>\n",
       "      <td>5.0</td>\n",
       "      <td>4.0</td>\n",
       "      <td>NaN</td>\n",
       "      <td>NaN</td>\n",
       "      <td>609.94</td>\n",
       "      <td>607.2</td>\n",
       "      <td>NaN</td>\n",
       "      <td>NaN</td>\n",
       "    </tr>\n",
       "    <tr>\n",
       "      <th>1</th>\n",
       "      <td>PB</td>\n",
       "      <td>Joao Pessoa</td>\n",
       "      <td>Centro Universitário Internacional - Uninter -...</td>\n",
       "      <td>PAP JOÃO PESSOA 01 - Miramar</td>\n",
       "      <td>Administração</td>\n",
       "      <td>Bacharelado</td>\n",
       "      <td>Curso a Distância</td>\n",
       "      <td>298.00</td>\n",
       "      <td>1.0</td>\n",
       "      <td>NaN</td>\n",
       "      <td>NaN</td>\n",
       "      <td>NaN</td>\n",
       "      <td>582.64</td>\n",
       "      <td>NaN</td>\n",
       "      <td>NaN</td>\n",
       "      <td>NaN</td>\n",
       "    </tr>\n",
       "    <tr>\n",
       "      <th>2</th>\n",
       "      <td>PB</td>\n",
       "      <td>Joao Pessoa</td>\n",
       "      <td>Centro Universitário Internacional - Uninter -...</td>\n",
       "      <td>PAP JOÃO PESSOA 02 - Expedicionários</td>\n",
       "      <td>Administração</td>\n",
       "      <td>Bacharelado</td>\n",
       "      <td>Curso a Distância</td>\n",
       "      <td>298.00</td>\n",
       "      <td>NaN</td>\n",
       "      <td>NaN</td>\n",
       "      <td>1.0</td>\n",
       "      <td>NaN</td>\n",
       "      <td>NaN</td>\n",
       "      <td>NaN</td>\n",
       "      <td>547.8</td>\n",
       "      <td>NaN</td>\n",
       "    </tr>\n",
       "    <tr>\n",
       "      <th>3</th>\n",
       "      <td>PB</td>\n",
       "      <td>Joao Pessoa</td>\n",
       "      <td>Faculdade Devry João Pessoa - DVJP</td>\n",
       "      <td>CAMPUS SEDE - Miramar</td>\n",
       "      <td>Administração</td>\n",
       "      <td>Bacharelado</td>\n",
       "      <td>Noturno</td>\n",
       "      <td>864.67</td>\n",
       "      <td>NaN</td>\n",
       "      <td>NaN</td>\n",
       "      <td>NaN</td>\n",
       "      <td>100.0</td>\n",
       "      <td>NaN</td>\n",
       "      <td>NaN</td>\n",
       "      <td>450.0</td>\n",
       "      <td>NaN</td>\n",
       "    </tr>\n",
       "    <tr>\n",
       "      <th>4</th>\n",
       "      <td>PB</td>\n",
       "      <td>Joao Pessoa</td>\n",
       "      <td>Faculdade Devry João Pessoa - DVJP</td>\n",
       "      <td>CAMPUS SEDE - Miramar</td>\n",
       "      <td>Administração</td>\n",
       "      <td>Bacharelado</td>\n",
       "      <td>Matutino</td>\n",
       "      <td>864.67</td>\n",
       "      <td>NaN</td>\n",
       "      <td>NaN</td>\n",
       "      <td>NaN</td>\n",
       "      <td>100.0</td>\n",
       "      <td>NaN</td>\n",
       "      <td>NaN</td>\n",
       "      <td>450.0</td>\n",
       "      <td>NaN</td>\n",
       "    </tr>\n",
       "  </tbody>\n",
       "</table>\n",
       "</div>"
      ],
      "text/plain": [
       "  uf_busca cidade_busca                                  universidade_nome  \\\n",
       "0       PB  Joao Pessoa  Centro Universitário de João Pessoa - Unipê - ...   \n",
       "1       PB  Joao Pessoa  Centro Universitário Internacional - Uninter -...   \n",
       "2       PB  Joao Pessoa  Centro Universitário Internacional - Uninter -...   \n",
       "3       PB  Joao Pessoa                 Faculdade Devry João Pessoa - DVJP   \n",
       "4       PB  Joao Pessoa                 Faculdade Devry João Pessoa - DVJP   \n",
       "\n",
       "                            campus_nome           nome         grau  \\\n",
       "0              CAMPUS UNIPÊ - Água Fria  Administração  Bacharelado   \n",
       "1          PAP JOÃO PESSOA 01 - Miramar  Administração  Bacharelado   \n",
       "2  PAP JOÃO PESSOA 02 - Expedicionários  Administração  Bacharelado   \n",
       "3                 CAMPUS SEDE - Miramar  Administração  Bacharelado   \n",
       "4                 CAMPUS SEDE - Miramar  Administração  Bacharelado   \n",
       "\n",
       "               turno  mensalidade  bolsa_integral_cotas  bolsa_integral_ampla  \\\n",
       "0           Matutino       529.00                   5.0                   4.0   \n",
       "1  Curso a Distância       298.00                   1.0                   NaN   \n",
       "2  Curso a Distância       298.00                   NaN                   NaN   \n",
       "3            Noturno       864.67                   NaN                   NaN   \n",
       "4           Matutino       864.67                   NaN                   NaN   \n",
       "\n",
       "   bolsa_parcial_cotas  bolsa_parcial_ampla  nota_integral_ampla  \\\n",
       "0                  NaN                  NaN               609.94   \n",
       "1                  NaN                  NaN               582.64   \n",
       "2                  1.0                  NaN                  NaN   \n",
       "3                  NaN                100.0                  NaN   \n",
       "4                  NaN                100.0                  NaN   \n",
       "\n",
       "   nota_integral_cotas  nota_parcial_ampla  nota_parcial_cotas  \n",
       "0                607.2                 NaN                 NaN  \n",
       "1                  NaN                 NaN                 NaN  \n",
       "2                  NaN               547.8                 NaN  \n",
       "3                  NaN               450.0                 NaN  \n",
       "4                  NaN               450.0                 NaN  "
      ]
     },
     "execution_count": 3,
     "metadata": {},
     "output_type": "execute_result"
    }
   ],
   "source": [
    "df.head()"
   ]
  },
  {
   "cell_type": "code",
   "execution_count": 4,
   "id": "67f16b8d",
   "metadata": {},
   "outputs": [
    {
     "data": {
      "text/html": [
       "<div>\n",
       "<style scoped>\n",
       "    .dataframe tbody tr th:only-of-type {\n",
       "        vertical-align: middle;\n",
       "    }\n",
       "\n",
       "    .dataframe tbody tr th {\n",
       "        vertical-align: top;\n",
       "    }\n",
       "\n",
       "    .dataframe thead th {\n",
       "        text-align: right;\n",
       "    }\n",
       "</style>\n",
       "<table border=\"1\" class=\"dataframe\">\n",
       "  <thead>\n",
       "    <tr style=\"text-align: right;\">\n",
       "      <th></th>\n",
       "      <th>uf_busca</th>\n",
       "      <th>cidade_busca</th>\n",
       "      <th>universidade_nome</th>\n",
       "      <th>campus_nome</th>\n",
       "      <th>nome</th>\n",
       "      <th>grau</th>\n",
       "      <th>turno</th>\n",
       "      <th>mensalidade</th>\n",
       "      <th>bolsa_integral_cotas</th>\n",
       "      <th>bolsa_integral_ampla</th>\n",
       "      <th>bolsa_parcial_cotas</th>\n",
       "      <th>bolsa_parcial_ampla</th>\n",
       "      <th>nota_integral_ampla</th>\n",
       "      <th>nota_integral_cotas</th>\n",
       "      <th>nota_parcial_ampla</th>\n",
       "      <th>nota_parcial_cotas</th>\n",
       "    </tr>\n",
       "  </thead>\n",
       "  <tbody>\n",
       "    <tr>\n",
       "      <th>355</th>\n",
       "      <td>PB</td>\n",
       "      <td>Joao Pessoa</td>\n",
       "      <td>Centro Universitário Internacional - Uninter -...</td>\n",
       "      <td>PAP JOÃO PESSOA 01 - Miramar</td>\n",
       "      <td>Teologia</td>\n",
       "      <td>Bacharelado</td>\n",
       "      <td>Curso a Distância</td>\n",
       "      <td>189.00</td>\n",
       "      <td>NaN</td>\n",
       "      <td>NaN</td>\n",
       "      <td>1.0</td>\n",
       "      <td>NaN</td>\n",
       "      <td>NaN</td>\n",
       "      <td>NaN</td>\n",
       "      <td>568.88</td>\n",
       "      <td>NaN</td>\n",
       "    </tr>\n",
       "    <tr>\n",
       "      <th>356</th>\n",
       "      <td>PB</td>\n",
       "      <td>Joao Pessoa</td>\n",
       "      <td>Centro Universitário Internacional - Uninter -...</td>\n",
       "      <td>PAP JOÃO PESSOA 02 - Expedicionários</td>\n",
       "      <td>Teologia</td>\n",
       "      <td>Bacharelado</td>\n",
       "      <td>Curso a Distância</td>\n",
       "      <td>189.00</td>\n",
       "      <td>1.0</td>\n",
       "      <td>NaN</td>\n",
       "      <td>1.0</td>\n",
       "      <td>1.0</td>\n",
       "      <td>631.42</td>\n",
       "      <td>NaN</td>\n",
       "      <td>604.00</td>\n",
       "      <td>529.3</td>\n",
       "    </tr>\n",
       "    <tr>\n",
       "      <th>357</th>\n",
       "      <td>PB</td>\n",
       "      <td>Joao Pessoa</td>\n",
       "      <td>Universidade Cruzeiro do Sul - UNICSUL</td>\n",
       "      <td>COESP - JOÃO PESSOA, PARAÍBA - Centro</td>\n",
       "      <td>Teologia</td>\n",
       "      <td>Bacharelado</td>\n",
       "      <td>Curso a Distância</td>\n",
       "      <td>256.86</td>\n",
       "      <td>NaN</td>\n",
       "      <td>NaN</td>\n",
       "      <td>1.0</td>\n",
       "      <td>NaN</td>\n",
       "      <td>NaN</td>\n",
       "      <td>NaN</td>\n",
       "      <td>561.42</td>\n",
       "      <td>NaN</td>\n",
       "    </tr>\n",
       "    <tr>\n",
       "      <th>358</th>\n",
       "      <td>PB</td>\n",
       "      <td>Joao Pessoa</td>\n",
       "      <td>Faculdade Paraíbana - FAP</td>\n",
       "      <td>CAMPUS  - JOÃO PESSOA - MIRAMAR - Miramar</td>\n",
       "      <td>Turismo</td>\n",
       "      <td>Bacharelado</td>\n",
       "      <td>Noturno</td>\n",
       "      <td>474.27</td>\n",
       "      <td>2.0</td>\n",
       "      <td>1.0</td>\n",
       "      <td>NaN</td>\n",
       "      <td>NaN</td>\n",
       "      <td>580.22</td>\n",
       "      <td>558.24</td>\n",
       "      <td>NaN</td>\n",
       "      <td>NaN</td>\n",
       "    </tr>\n",
       "    <tr>\n",
       "      <th>359</th>\n",
       "      <td>PB</td>\n",
       "      <td>Joao Pessoa</td>\n",
       "      <td>Instituto Paraibano de Ensino Renovado - INPER</td>\n",
       "      <td>CAMPUS  - JOÃO PESSOA - JARDIM MARIZÓPOLIS - J...</td>\n",
       "      <td>Turismo</td>\n",
       "      <td>Bacharelado</td>\n",
       "      <td>Noturno</td>\n",
       "      <td>560.89</td>\n",
       "      <td>2.0</td>\n",
       "      <td>1.0</td>\n",
       "      <td>NaN</td>\n",
       "      <td>NaN</td>\n",
       "      <td>591.16</td>\n",
       "      <td>548.48</td>\n",
       "      <td>NaN</td>\n",
       "      <td>NaN</td>\n",
       "    </tr>\n",
       "  </tbody>\n",
       "</table>\n",
       "</div>"
      ],
      "text/plain": [
       "    uf_busca cidade_busca                                  universidade_nome  \\\n",
       "355       PB  Joao Pessoa  Centro Universitário Internacional - Uninter -...   \n",
       "356       PB  Joao Pessoa  Centro Universitário Internacional - Uninter -...   \n",
       "357       PB  Joao Pessoa             Universidade Cruzeiro do Sul - UNICSUL   \n",
       "358       PB  Joao Pessoa                          Faculdade Paraíbana - FAP   \n",
       "359       PB  Joao Pessoa     Instituto Paraibano de Ensino Renovado - INPER   \n",
       "\n",
       "                                           campus_nome      nome         grau  \\\n",
       "355                       PAP JOÃO PESSOA 01 - Miramar  Teologia  Bacharelado   \n",
       "356               PAP JOÃO PESSOA 02 - Expedicionários  Teologia  Bacharelado   \n",
       "357              COESP - JOÃO PESSOA, PARAÍBA - Centro  Teologia  Bacharelado   \n",
       "358          CAMPUS  - JOÃO PESSOA - MIRAMAR - Miramar   Turismo  Bacharelado   \n",
       "359  CAMPUS  - JOÃO PESSOA - JARDIM MARIZÓPOLIS - J...   Turismo  Bacharelado   \n",
       "\n",
       "                 turno  mensalidade  bolsa_integral_cotas  \\\n",
       "355  Curso a Distância       189.00                   NaN   \n",
       "356  Curso a Distância       189.00                   1.0   \n",
       "357  Curso a Distância       256.86                   NaN   \n",
       "358            Noturno       474.27                   2.0   \n",
       "359            Noturno       560.89                   2.0   \n",
       "\n",
       "     bolsa_integral_ampla  bolsa_parcial_cotas  bolsa_parcial_ampla  \\\n",
       "355                   NaN                  1.0                  NaN   \n",
       "356                   NaN                  1.0                  1.0   \n",
       "357                   NaN                  1.0                  NaN   \n",
       "358                   1.0                  NaN                  NaN   \n",
       "359                   1.0                  NaN                  NaN   \n",
       "\n",
       "     nota_integral_ampla  nota_integral_cotas  nota_parcial_ampla  \\\n",
       "355                  NaN                  NaN              568.88   \n",
       "356               631.42                  NaN              604.00   \n",
       "357                  NaN                  NaN              561.42   \n",
       "358               580.22               558.24                 NaN   \n",
       "359               591.16               548.48                 NaN   \n",
       "\n",
       "     nota_parcial_cotas  \n",
       "355                 NaN  \n",
       "356               529.3  \n",
       "357                 NaN  \n",
       "358                 NaN  \n",
       "359                 NaN  "
      ]
     },
     "execution_count": 4,
     "metadata": {},
     "output_type": "execute_result"
    }
   ],
   "source": [
    "df.tail()"
   ]
  },
  {
   "cell_type": "code",
   "execution_count": 5,
   "id": "2cf5d2e9",
   "metadata": {},
   "outputs": [
    {
     "data": {
      "text/plain": [
       "Index(['uf_busca', 'cidade_busca', 'universidade_nome', 'campus_nome', 'nome',\n",
       "       'grau', 'turno', 'mensalidade', 'bolsa_integral_cotas',\n",
       "       'bolsa_integral_ampla', 'bolsa_parcial_cotas', 'bolsa_parcial_ampla',\n",
       "       'nota_integral_ampla', 'nota_integral_cotas', 'nota_parcial_ampla',\n",
       "       'nota_parcial_cotas'],\n",
       "      dtype='object')"
      ]
     },
     "execution_count": 5,
     "metadata": {},
     "output_type": "execute_result"
    }
   ],
   "source": [
    "df.columns"
   ]
  },
  {
   "cell_type": "code",
   "execution_count": 6,
   "id": "d888d1dc",
   "metadata": {},
   "outputs": [
    {
     "data": {
      "text/plain": [
       "(360, 16)"
      ]
     },
     "execution_count": 6,
     "metadata": {},
     "output_type": "execute_result"
    }
   ],
   "source": [
    "df.shape"
   ]
  },
  {
   "cell_type": "code",
   "execution_count": 7,
   "id": "fb5dcf5e",
   "metadata": {},
   "outputs": [
    {
     "data": {
      "text/plain": [
       "uf_busca                  1\n",
       "cidade_busca              1\n",
       "universidade_nome        29\n",
       "campus_nome              34\n",
       "nome                     82\n",
       "grau                      3\n",
       "turno                     5\n",
       "mensalidade             183\n",
       "bolsa_integral_cotas     11\n",
       "bolsa_integral_ampla     14\n",
       "bolsa_parcial_cotas       3\n",
       "bolsa_parcial_ampla      17\n",
       "nota_integral_ampla     290\n",
       "nota_integral_cotas     207\n",
       "nota_parcial_ampla       74\n",
       "nota_parcial_cotas        7\n",
       "dtype: int64"
      ]
     },
     "execution_count": 7,
     "metadata": {},
     "output_type": "execute_result"
    }
   ],
   "source": [
    "df.nunique()"
   ]
  },
  {
   "cell_type": "code",
   "execution_count": 8,
   "id": "81e3df09",
   "metadata": {},
   "outputs": [
    {
     "data": {
      "text/plain": [
       "np.float64(8350.0)"
      ]
     },
     "execution_count": 8,
     "metadata": {},
     "output_type": "execute_result"
    }
   ],
   "source": [
    "df.mensalidade.max()"
   ]
  },
  {
   "cell_type": "code",
   "execution_count": 9,
   "id": "4fb624e1",
   "metadata": {},
   "outputs": [
    {
     "data": {
      "text/plain": [
       "np.float64(149.0)"
      ]
     },
     "execution_count": 9,
     "metadata": {},
     "output_type": "execute_result"
    }
   ],
   "source": [
    "df.mensalidade.min()"
   ]
  },
  {
   "cell_type": "code",
   "execution_count": 18,
   "id": "d282b42a",
   "metadata": {},
   "outputs": [
    {
     "data": {
      "image/png": "[encoded data removed]",
      "text/plain": [
       "<Figure size 800x500 with 1 Axes>"
      ]
     },
     "metadata": {},
     "output_type": "display_data"
    }
   ],
   "source": [
    "plt.figure(figsize=(8, 5))\n",
    "plt.boxplot(df['mensalidade'], vert=True)\n",
    "plt.title('Boxplot das Mensalidades')\n",
    "plt.xlabel('Mensalidade')\n",
    "plt.show()"
   ]
  },
  {
   "cell_type": "code",
   "execution_count": 12,
   "id": "85e2f556",
   "metadata": {},
   "outputs": [],
   "source": [
    "df['zscore'] = np.abs(stats.zscore(df.mensalidade))"
   ]
  },
  {
   "cell_type": "code",
   "execution_count": 15,
   "id": "3443e5c7",
   "metadata": {},
   "outputs": [
    {
     "data": {
      "text/html": [
       "<div>\n",
       "<style scoped>\n",
       "    .dataframe tbody tr th:only-of-type {\n",
       "        vertical-align: middle;\n",
       "    }\n",
       "\n",
       "    .dataframe tbody tr th {\n",
       "        vertical-align: top;\n",
       "    }\n",
       "\n",
       "    .dataframe thead th {\n",
       "        text-align: right;\n",
       "    }\n",
       "</style>\n",
       "<table border=\"1\" class=\"dataframe\">\n",
       "  <thead>\n",
       "    <tr style=\"text-align: right;\">\n",
       "      <th></th>\n",
       "      <th>uf_busca</th>\n",
       "      <th>cidade_busca</th>\n",
       "      <th>universidade_nome</th>\n",
       "      <th>campus_nome</th>\n",
       "      <th>nome</th>\n",
       "      <th>grau</th>\n",
       "      <th>turno</th>\n",
       "      <th>mensalidade</th>\n",
       "      <th>bolsa_integral_cotas</th>\n",
       "      <th>bolsa_integral_ampla</th>\n",
       "      <th>bolsa_parcial_cotas</th>\n",
       "      <th>bolsa_parcial_ampla</th>\n",
       "      <th>nota_integral_ampla</th>\n",
       "      <th>nota_integral_cotas</th>\n",
       "      <th>nota_parcial_ampla</th>\n",
       "      <th>nota_parcial_cotas</th>\n",
       "      <th>zscore</th>\n",
       "    </tr>\n",
       "  </thead>\n",
       "  <tbody>\n",
       "    <tr>\n",
       "      <th>281</th>\n",
       "      <td>PB</td>\n",
       "      <td>Joao Pessoa</td>\n",
       "      <td>Centro Universitário de João Pessoa - Unipê - ...</td>\n",
       "      <td>CAMPUS UNIPÊ - Água Fria</td>\n",
       "      <td>Medicina</td>\n",
       "      <td>Bacharelado</td>\n",
       "      <td>Integral</td>\n",
       "      <td>7686.0</td>\n",
       "      <td>5.0</td>\n",
       "      <td>4.0</td>\n",
       "      <td>NaN</td>\n",
       "      <td>NaN</td>\n",
       "      <td>764.32</td>\n",
       "      <td>743.76</td>\n",
       "      <td>NaN</td>\n",
       "      <td>NaN</td>\n",
       "      <td>9.287521</td>\n",
       "    </tr>\n",
       "    <tr>\n",
       "      <th>282</th>\n",
       "      <td>PB</td>\n",
       "      <td>Joao Pessoa</td>\n",
       "      <td>Faculdade de Ciências Médicas da Paraíba - FCM-PB</td>\n",
       "      <td>LADEIRA DE S FRANCISCO - Centro</td>\n",
       "      <td>Medicina</td>\n",
       "      <td>Bacharelado</td>\n",
       "      <td>Integral</td>\n",
       "      <td>7412.7</td>\n",
       "      <td>8.0</td>\n",
       "      <td>5.0</td>\n",
       "      <td>5.0</td>\n",
       "      <td>3.0</td>\n",
       "      <td>754.98</td>\n",
       "      <td>733.60</td>\n",
       "      <td>748.78</td>\n",
       "      <td>727.58</td>\n",
       "      <td>8.926079</td>\n",
       "    </tr>\n",
       "    <tr>\n",
       "      <th>283</th>\n",
       "      <td>PB</td>\n",
       "      <td>Joao Pessoa</td>\n",
       "      <td>Faculdade de Medicina Nova Esperança - FAMENE</td>\n",
       "      <td>CAMPUS  - JOÃO PESSOA - Gramame</td>\n",
       "      <td>Medicina</td>\n",
       "      <td>Bacharelado</td>\n",
       "      <td>Integral</td>\n",
       "      <td>8350.0</td>\n",
       "      <td>4.0</td>\n",
       "      <td>3.0</td>\n",
       "      <td>NaN</td>\n",
       "      <td>NaN</td>\n",
       "      <td>759.76</td>\n",
       "      <td>736.94</td>\n",
       "      <td>NaN</td>\n",
       "      <td>NaN</td>\n",
       "      <td>10.165669</td>\n",
       "    </tr>\n",
       "  </tbody>\n",
       "</table>\n",
       "</div>"
      ],
      "text/plain": [
       "    uf_busca cidade_busca                                  universidade_nome  \\\n",
       "281       PB  Joao Pessoa  Centro Universitário de João Pessoa - Unipê - ...   \n",
       "282       PB  Joao Pessoa  Faculdade de Ciências Médicas da Paraíba - FCM-PB   \n",
       "283       PB  Joao Pessoa      Faculdade de Medicina Nova Esperança - FAMENE   \n",
       "\n",
       "                         campus_nome      nome         grau     turno  \\\n",
       "281         CAMPUS UNIPÊ - Água Fria  Medicina  Bacharelado  Integral   \n",
       "282  LADEIRA DE S FRANCISCO - Centro  Medicina  Bacharelado  Integral   \n",
       "283  CAMPUS  - JOÃO PESSOA - Gramame  Medicina  Bacharelado  Integral   \n",
       "\n",
       "     mensalidade  bolsa_integral_cotas  bolsa_integral_ampla  \\\n",
       "281       7686.0                   5.0                   4.0   \n",
       "282       7412.7                   8.0                   5.0   \n",
       "283       8350.0                   4.0                   3.0   \n",
       "\n",
       "     bolsa_parcial_cotas  bolsa_parcial_ampla  nota_integral_ampla  \\\n",
       "281                  NaN                  NaN               764.32   \n",
       "282                  5.0                  3.0               754.98   \n",
       "283                  NaN                  NaN               759.76   \n",
       "\n",
       "     nota_integral_cotas  nota_parcial_ampla  nota_parcial_cotas     zscore  \n",
       "281               743.76                 NaN                 NaN   9.287521  \n",
       "282               733.60              748.78              727.58   8.926079  \n",
       "283               736.94                 NaN                 NaN  10.165669  "
      ]
     },
     "execution_count": 15,
     "metadata": {},
     "output_type": "execute_result"
    }
   ],
   "source": [
    "df[(df.zscore > 3) | (df.zscore < -3)].head()"
   ]
  },
  {
   "cell_type": "code",
   "execution_count": 16,
   "id": "c47d2400",
   "metadata": {},
   "outputs": [
    {
     "data": {
      "image/png": "[encoded data removed]",
      "text/plain": [
       "<Figure size 1000x600 with 1 Axes>"
      ]
     },
     "metadata": {},
     "output_type": "display_data"
    }
   ],
   "source": [
    "import matplotlib.pyplot as plt\n",
    "\n",
    "plt.figure(figsize=(10, 6))\n",
    "plt.hist(df['zscore'], bins=30, edgecolor='black')\n",
    "plt.title('Distribuição do Z-Score das Mensalidades')\n",
    "plt.xlabel('Z-Score')\n",
    "plt.ylabel('Frequência')\n",
    "plt.grid(True)\n",
    "plt.show()"
   ]
  },
  {
   "cell_type": "code",
   "execution_count": 19,
   "id": "7975e850",
   "metadata": {},
   "outputs": [
    {
     "data": {
      "text/plain": [
       "uf_busca                  0\n",
       "cidade_busca              0\n",
       "universidade_nome         0\n",
       "campus_nome               0\n",
       "nome                      0\n",
       "grau                      0\n",
       "turno                     0\n",
       "mensalidade               0\n",
       "bolsa_integral_cotas     64\n",
       "bolsa_integral_ampla    149\n",
       "bolsa_parcial_cotas     307\n",
       "bolsa_parcial_ampla     307\n",
       "nota_integral_ampla      64\n",
       "nota_integral_cotas     150\n",
       "nota_parcial_ampla      261\n",
       "nota_parcial_cotas      353\n",
       "zscore                    0\n",
       "dtype: int64"
      ]
     },
     "execution_count": 19,
     "metadata": {},
     "output_type": "execute_result"
    }
   ],
   "source": [
    "df.isna().sum()"
   ]
  },
  {
   "cell_type": "code",
   "execution_count": 20,
   "id": "d43bf549",
   "metadata": {},
   "outputs": [
    {
     "data": {
      "text/plain": [
       "uf_busca                0\n",
       "cidade_busca            0\n",
       "universidade_nome       0\n",
       "campus_nome             0\n",
       "nome                    0\n",
       "grau                    0\n",
       "turno                   0\n",
       "mensalidade             0\n",
       "bolsa_integral_cotas    0\n",
       "bolsa_integral_ampla    0\n",
       "bolsa_parcial_cotas     0\n",
       "bolsa_parcial_ampla     0\n",
       "nota_integral_ampla     0\n",
       "nota_integral_cotas     0\n",
       "nota_parcial_ampla      0\n",
       "nota_parcial_cotas      0\n",
       "zscore                  0\n",
       "dtype: int64"
      ]
     },
     "execution_count": 20,
     "metadata": {},
     "output_type": "execute_result"
    }
   ],
   "source": [
    "df_na = df.dropna()\n",
    "df_na.isna().sum()"
   ]
  },
  {
   "cell_type": "code",
   "execution_count": 21,
   "id": "df87e937",
   "metadata": {},
   "outputs": [
    {
     "data": {
      "text/plain": [
       "(360, 17)"
      ]
     },
     "execution_count": 21,
     "metadata": {},
     "output_type": "execute_result"
    }
   ],
   "source": [
    "df.shape"
   ]
  },
  {
   "cell_type": "code",
   "execution_count": 22,
   "id": "48a8eaee",
   "metadata": {},
   "outputs": [
    {
     "data": {
      "text/plain": [
       "(1, 17)"
      ]
     },
     "execution_count": 22,
     "metadata": {},
     "output_type": "execute_result"
    }
   ],
   "source": [
    "df_na.shape"
   ]
  },
  {
   "cell_type": "code",
   "execution_count": 23,
   "id": "f9cd146a",
   "metadata": {},
   "outputs": [
    {
     "data": {
      "text/plain": [
       "uf_busca                0\n",
       "cidade_busca            0\n",
       "universidade_nome       0\n",
       "campus_nome             0\n",
       "nome                    0\n",
       "grau                    0\n",
       "turno                   0\n",
       "mensalidade             0\n",
       "bolsa_integral_cotas    0\n",
       "bolsa_integral_ampla    0\n",
       "bolsa_parcial_cotas     0\n",
       "bolsa_parcial_ampla     0\n",
       "nota_integral_ampla     0\n",
       "nota_integral_cotas     0\n",
       "nota_parcial_ampla      0\n",
       "nota_parcial_cotas      0\n",
       "zscore                  0\n",
       "dtype: int64"
      ]
     },
     "execution_count": 23,
     "metadata": {},
     "output_type": "execute_result"
    }
   ],
   "source": [
    "df_fna = df.fillna(0)\n",
    "df_fna.isna().sum()"
   ]
  },
  {
   "cell_type": "code",
   "execution_count": 24,
   "id": "b2b557f6",
   "metadata": {},
   "outputs": [
    {
     "data": {
      "text/html": [
       "<div>\n",
       "<style scoped>\n",
       "    .dataframe tbody tr th:only-of-type {\n",
       "        vertical-align: middle;\n",
       "    }\n",
       "\n",
       "    .dataframe tbody tr th {\n",
       "        vertical-align: top;\n",
       "    }\n",
       "\n",
       "    .dataframe thead th {\n",
       "        text-align: right;\n",
       "    }\n",
       "</style>\n",
       "<table border=\"1\" class=\"dataframe\">\n",
       "  <thead>\n",
       "    <tr style=\"text-align: right;\">\n",
       "      <th></th>\n",
       "      <th>uf_busca</th>\n",
       "      <th>cidade_busca</th>\n",
       "      <th>universidade_nome</th>\n",
       "      <th>campus_nome</th>\n",
       "      <th>nome</th>\n",
       "      <th>grau</th>\n",
       "      <th>turno</th>\n",
       "      <th>mensalidade</th>\n",
       "      <th>bolsa_integral_cotas</th>\n",
       "      <th>bolsa_integral_ampla</th>\n",
       "      <th>bolsa_parcial_cotas</th>\n",
       "      <th>bolsa_parcial_ampla</th>\n",
       "      <th>nota_integral_ampla</th>\n",
       "      <th>nota_integral_cotas</th>\n",
       "      <th>nota_parcial_ampla</th>\n",
       "      <th>nota_parcial_cotas</th>\n",
       "      <th>zscore</th>\n",
       "    </tr>\n",
       "  </thead>\n",
       "  <tbody>\n",
       "    <tr>\n",
       "      <th>0</th>\n",
       "      <td>PB</td>\n",
       "      <td>Joao Pessoa</td>\n",
       "      <td>Centro Universitário de João Pessoa - Unipê - ...</td>\n",
       "      <td>CAMPUS UNIPÊ - Água Fria</td>\n",
       "      <td>Administração</td>\n",
       "      <td>Bacharelado</td>\n",
       "      <td>Matutino</td>\n",
       "      <td>529.00</td>\n",
       "      <td>5.0</td>\n",
       "      <td>4.0</td>\n",
       "      <td>0.0</td>\n",
       "      <td>0.0</td>\n",
       "      <td>609.94</td>\n",
       "      <td>607.2</td>\n",
       "      <td>0.0</td>\n",
       "      <td>0.0</td>\n",
       "      <td>0.177694</td>\n",
       "    </tr>\n",
       "    <tr>\n",
       "      <th>1</th>\n",
       "      <td>PB</td>\n",
       "      <td>Joao Pessoa</td>\n",
       "      <td>Centro Universitário Internacional - Uninter -...</td>\n",
       "      <td>PAP JOÃO PESSOA 01 - Miramar</td>\n",
       "      <td>Administração</td>\n",
       "      <td>Bacharelado</td>\n",
       "      <td>Curso a Distância</td>\n",
       "      <td>298.00</td>\n",
       "      <td>1.0</td>\n",
       "      <td>0.0</td>\n",
       "      <td>0.0</td>\n",
       "      <td>0.0</td>\n",
       "      <td>582.64</td>\n",
       "      <td>0.0</td>\n",
       "      <td>0.0</td>\n",
       "      <td>0.0</td>\n",
       "      <td>0.483195</td>\n",
       "    </tr>\n",
       "    <tr>\n",
       "      <th>2</th>\n",
       "      <td>PB</td>\n",
       "      <td>Joao Pessoa</td>\n",
       "      <td>Centro Universitário Internacional - Uninter -...</td>\n",
       "      <td>PAP JOÃO PESSOA 02 - Expedicionários</td>\n",
       "      <td>Administração</td>\n",
       "      <td>Bacharelado</td>\n",
       "      <td>Curso a Distância</td>\n",
       "      <td>298.00</td>\n",
       "      <td>0.0</td>\n",
       "      <td>0.0</td>\n",
       "      <td>1.0</td>\n",
       "      <td>0.0</td>\n",
       "      <td>0.00</td>\n",
       "      <td>0.0</td>\n",
       "      <td>547.8</td>\n",
       "      <td>0.0</td>\n",
       "      <td>0.483195</td>\n",
       "    </tr>\n",
       "    <tr>\n",
       "      <th>3</th>\n",
       "      <td>PB</td>\n",
       "      <td>Joao Pessoa</td>\n",
       "      <td>Faculdade Devry João Pessoa - DVJP</td>\n",
       "      <td>CAMPUS SEDE - Miramar</td>\n",
       "      <td>Administração</td>\n",
       "      <td>Bacharelado</td>\n",
       "      <td>Noturno</td>\n",
       "      <td>864.67</td>\n",
       "      <td>0.0</td>\n",
       "      <td>0.0</td>\n",
       "      <td>0.0</td>\n",
       "      <td>100.0</td>\n",
       "      <td>0.00</td>\n",
       "      <td>0.0</td>\n",
       "      <td>450.0</td>\n",
       "      <td>0.0</td>\n",
       "      <td>0.266233</td>\n",
       "    </tr>\n",
       "    <tr>\n",
       "      <th>4</th>\n",
       "      <td>PB</td>\n",
       "      <td>Joao Pessoa</td>\n",
       "      <td>Faculdade Devry João Pessoa - DVJP</td>\n",
       "      <td>CAMPUS SEDE - Miramar</td>\n",
       "      <td>Administração</td>\n",
       "      <td>Bacharelado</td>\n",
       "      <td>Matutino</td>\n",
       "      <td>864.67</td>\n",
       "      <td>0.0</td>\n",
       "      <td>0.0</td>\n",
       "      <td>0.0</td>\n",
       "      <td>100.0</td>\n",
       "      <td>0.00</td>\n",
       "      <td>0.0</td>\n",
       "      <td>450.0</td>\n",
       "      <td>0.0</td>\n",
       "      <td>0.266233</td>\n",
       "    </tr>\n",
       "  </tbody>\n",
       "</table>\n",
       "</div>"
      ],
      "text/plain": [
       "  uf_busca cidade_busca                                  universidade_nome  \\\n",
       "0       PB  Joao Pessoa  Centro Universitário de João Pessoa - Unipê - ...   \n",
       "1       PB  Joao Pessoa  Centro Universitário Internacional - Uninter -...   \n",
       "2       PB  Joao Pessoa  Centro Universitário Internacional - Uninter -...   \n",
       "3       PB  Joao Pessoa                 Faculdade Devry João Pessoa - DVJP   \n",
       "4       PB  Joao Pessoa                 Faculdade Devry João Pessoa - DVJP   \n",
       "\n",
       "                            campus_nome           nome         grau  \\\n",
       "0              CAMPUS UNIPÊ - Água Fria  Administração  Bacharelado   \n",
       "1          PAP JOÃO PESSOA 01 - Miramar  Administração  Bacharelado   \n",
       "2  PAP JOÃO PESSOA 02 - Expedicionários  Administração  Bacharelado   \n",
       "3                 CAMPUS SEDE - Miramar  Administração  Bacharelado   \n",
       "4                 CAMPUS SEDE - Miramar  Administração  Bacharelado   \n",
       "\n",
       "               turno  mensalidade  bolsa_integral_cotas  bolsa_integral_ampla  \\\n",
       "0           Matutino       529.00                   5.0                   4.0   \n",
       "1  Curso a Distância       298.00                   1.0                   0.0   \n",
       "2  Curso a Distância       298.00                   0.0                   0.0   \n",
       "3            Noturno       864.67                   0.0                   0.0   \n",
       "4           Matutino       864.67                   0.0                   0.0   \n",
       "\n",
       "   bolsa_parcial_cotas  bolsa_parcial_ampla  nota_integral_ampla  \\\n",
       "0                  0.0                  0.0               609.94   \n",
       "1                  0.0                  0.0               582.64   \n",
       "2                  1.0                  0.0                 0.00   \n",
       "3                  0.0                100.0                 0.00   \n",
       "4                  0.0                100.0                 0.00   \n",
       "\n",
       "   nota_integral_cotas  nota_parcial_ampla  nota_parcial_cotas    zscore  \n",
       "0                607.2                 0.0                 0.0  0.177694  \n",
       "1                  0.0                 0.0                 0.0  0.483195  \n",
       "2                  0.0               547.8                 0.0  0.483195  \n",
       "3                  0.0               450.0                 0.0  0.266233  \n",
       "4                  0.0               450.0                 0.0  0.266233  "
      ]
     },
     "execution_count": 24,
     "metadata": {},
     "output_type": "execute_result"
    }
   ],
   "source": [
    "df_fna.head()"
   ]
  },
  {
   "cell_type": "code",
   "execution_count": null,
   "id": "c136b7d9",
   "metadata": {},
   "outputs": [],
   "source": []
  }
 ],
 "metadata": {
  "kernelspec": {
   "display_name": "venv",
   "language": "python",
   "name": "python3"
  },
  "language_info": {
   "codemirror_mode": {
    "name": "ipython",
    "version": 3
   },
   "file_extension": ".py",
   "mimetype": "text/x-python",
   "name": "python",
   "nbconvert_exporter": "python",
   "pygments_lexer": "ipython3",
   "version": "3.11.6"
  }
 },
 "nbformat": 4,
 "nbformat_minor": 5
}
